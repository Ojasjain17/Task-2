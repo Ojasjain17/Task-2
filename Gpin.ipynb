{
 "cells": [
  {
   "cell_type": "code",
   "execution_count": 1,
   "metadata": {},
   "outputs": [],
   "source": [
    "import math\n",
    "import pandas as pd\n",
    "from pandas import DataFrame\n",
    "import numpy as np\n",
    "\n",
    "from sklearn.cluster import KMeans\n",
    "from sklearn.preprocessing import LabelEncoder\n",
    "from sklearn.preprocessing import MinMaxScaler\n",
    "\n",
    "import matplotlib.pyplot as plt"
   ]
  },
  {
   "cell_type": "code",
   "execution_count": 1,
   "metadata": {},
   "outputs": [],
   "source": [
    "from geopy.distance import geodesic\n",
    "from geopy.distance import vincenty"
   ]
  },
  {
   "cell_type": "code",
   "execution_count": null,
   "metadata": {},
   "outputs": [],
   "source": [
    "from geopy.distance import lonlat, distance"
   ]
  },
  {
   "cell_type": "code",
   "execution_count": 2,
   "metadata": {},
   "outputs": [],
   "source": [
    "r=pd.read_csv('Sample.csv')\n",
    "q=DataFrame(r)\n"
   ]
  },
  {
   "cell_type": "code",
   "execution_count": 5,
   "metadata": {
    "scrolled": true
   },
   "outputs": [
    {
     "name": "stdout",
     "output_type": "stream",
     "text": [
      "Please enter a pincode:-532324\n"
     ]
    }
   ],
   "source": [
    "x=input('Please enter a pincode:-')  #enter the source pincode"
   ]
  },
  {
   "cell_type": "code",
   "execution_count": 6,
   "metadata": {},
   "outputs": [],
   "source": [
    "for i in range(len(q.index)):\n",
    "    if q.loc[i,'Pincodes']==x:\n",
    "        a=q.loc[i,'Latitude']\n",
    "        b=q.loc[i,'Longitude']\n"
   ]
  },
  {
   "cell_type": "code",
   "execution_count": 7,
   "metadata": {},
   "outputs": [
    {
     "name": "stdout",
     "output_type": "stream",
     "text": [
      "Please enter a radius:-7\n"
     ]
    }
   ],
   "source": [
    "r=input('Please enter a radius:-') #enter the radius within which you want all the pincodes"
   ]
  },
  {
   "cell_type": "code",
   "execution_count": 10,
   "metadata": {
    "scrolled": false
   },
   "outputs": [
    {
     "name": "stdout",
     "output_type": "stream",
     "text": [
      "534447.0\n",
      "534451.0\n",
      "534451.0\n"
     ]
    }
   ],
   "source": [
    "for i in range(len(q.index)):\n",
    "    \n",
    "    \n",
    "    n=float(q.loc[i,'Latitude'])\n",
    "    m=float(q.loc[i,'Longitude'])\n",
    "    \n",
    "    e=[n,m]\n",
    "    \n",
    "    d=[a,b]\n",
    "    if(n!=a and m!=b):\n",
    "     dist = geodesic(e,d).km\n",
    "     if dist<r:\n",
    "        C.append(q.loc[i,'Pincodes'])\n",
    "        print q.loc[i,'Pincodes']\n",
    "        \n",
    "        \n",
    "  "
   ]
  }
 ],
 "metadata": {
  "kernelspec": {
   "display_name": "Python 2",
   "language": "python",
   "name": "python2"
  },
  "language_info": {
   "codemirror_mode": {
    "name": "ipython",
    "version": 2
   },
   "file_extension": ".py",
   "mimetype": "text/x-python",
   "name": "python",
   "nbconvert_exporter": "python",
   "pygments_lexer": "ipython2",
   "version": "2.7.15rc1"
  }
 },
 "nbformat": 4,
 "nbformat_minor": 2
}
